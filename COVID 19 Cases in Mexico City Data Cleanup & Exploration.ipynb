{
 "cells": [
  {
   "cell_type": "markdown",
   "metadata": {},
   "source": [
    "# COVID 19 Cases in Mexico City Data Cleanup & Exploration\n",
    "***\n",
    "### This notebook contains the exploration and cleaning process of various csv files provided by the Sistema Nacional de Vigilancia Epidemiologica in Mexico City\n",
    "\n",
    "### Resource\n",
    "- https://archivo.datos.cdmx.gob.mx/sinave-colonias/?C=M;O=A\n",
    "-https://datos.cdmx.gob.mx/dataset/covid-19-sinave-ciudad-de-mexico-a-nivel-colonia"
   ]
  },
  {
   "cell_type": "markdown",
   "metadata": {},
   "source": [
    "<div class=\"alert alert-block alert-info\">\n",
    "<b>Tip:</b> Use blue boxes (alert-info) for tips and notes.</div>\n",
    "\n",
    "<div class=\"alert alert-block alert-success\">\n",
    "<b>Success:</b> This alert box indicates a successful or positive action.\n",
    "</div>\n",
    "\n",
    "<div class=\"alert alert-block alert-danger\">\n",
    "<b>Danger:</b> This alert box indicates a dangerous or potentially negative action.\n",
    "</div>"
   ]
  },
  {
   "cell_type": "code",
   "execution_count": 1,
   "metadata": {},
   "outputs": [
    {
     "ename": "ModuleNotFoundError",
     "evalue": "No module named 'calmap'",
     "output_type": "error",
     "traceback": [
      "\u001b[1;31m---------------------------------------------------------------------------\u001b[0m",
      "\u001b[1;31mModuleNotFoundError\u001b[0m                       Traceback (most recent call last)",
      "\u001b[1;32m<ipython-input-1-fef0a05744f2>\u001b[0m in \u001b[0;36m<module>\u001b[1;34m\u001b[0m\n\u001b[0;32m      7\u001b[0m \u001b[1;32mimport\u001b[0m \u001b[0mio\u001b[0m\u001b[1;33m\u001b[0m\u001b[1;33m\u001b[0m\u001b[0m\n\u001b[0;32m      8\u001b[0m \u001b[1;32mimport\u001b[0m \u001b[0mmatplotlib\u001b[0m\u001b[1;33m.\u001b[0m\u001b[0mpyplot\u001b[0m \u001b[1;32mas\u001b[0m \u001b[0mplt\u001b[0m\u001b[1;33m\u001b[0m\u001b[1;33m\u001b[0m\u001b[0m\n\u001b[1;32m----> 9\u001b[1;33m \u001b[1;32mimport\u001b[0m \u001b[0mcalmap\u001b[0m\u001b[1;33m\u001b[0m\u001b[1;33m\u001b[0m\u001b[0m\n\u001b[0m\u001b[0;32m     10\u001b[0m \u001b[1;33m\u001b[0m\u001b[0m\n\u001b[0;32m     11\u001b[0m \u001b[1;33m\u001b[0m\u001b[0m\n",
      "\u001b[1;31mModuleNotFoundError\u001b[0m: No module named 'calmap'"
     ]
    }
   ],
   "source": [
    "# Import packages and dependencies\n",
    "import os\n",
    "import glob\n",
    "import pandas as pd\n",
    "import numpy as np; np.random.seed(sum(map(ord, 'calmap')))\n",
    "from matplotlib import colors\n",
    "import io\n",
    "import matplotlib.pyplot as plt\n",
    "import calmap\n",
    "\n",
    "\n",
    "# We configure pandas in order to see the complete rows and columns of our data frames\n",
    "pd.set_option('display.max_rows', None)\n",
    "pd.set_option('display.max_columns', None)\n",
    "pd.set_option('display.width', None)\n",
    "pd.set_option('display.max_colwidth', None)\n"
   ]
  },
  {
   "cell_type": "code",
   "execution_count": null,
   "metadata": {},
   "outputs": [],
   "source": [
    "# All files downloaded from the \n",
    "all_filenames = [i for i in glob.glob(\"Historico Sinave/*.csv\")]\n",
    "# all_filenames\n"
   ]
  },
  {
   "cell_type": "markdown",
   "metadata": {},
   "source": [
    "## Exploration\n",
    "\n",
    "First we must explore the structure of each csv, as we see in the data frame displayer below, we have Alcaldia (Delegación), Colonia and positive COVID 19 cases registered in that particular date, date format is based in YYMMDD."
   ]
  },
  {
   "cell_type": "code",
   "execution_count": null,
   "metadata": {},
   "outputs": [],
   "source": [
    "df_exploration = pd.read_csv(all_filenames[0])\n",
    "df_exploration.head()"
   ]
  },
  {
   "cell_type": "markdown",
   "metadata": {},
   "source": [
    "## Exploration part 2\n",
    "\n",
    "Understanding that each csv file **contains different dates**, we must know what dates are registered in each csv file. With the help of a **for loop** we enter to each csv file and displayed all columns contained:"
   ]
  },
  {
   "cell_type": "code",
   "execution_count": 2,
   "metadata": {},
   "outputs": [
    {
     "ename": "NameError",
     "evalue": "name 'all_filenames' is not defined",
     "output_type": "error",
     "traceback": [
      "\u001b[1;31m---------------------------------------------------------------------------\u001b[0m",
      "\u001b[1;31mNameError\u001b[0m                                 Traceback (most recent call last)",
      "\u001b[1;32m<ipython-input-2-eb4476b4714f>\u001b[0m in \u001b[0;36m<module>\u001b[1;34m\u001b[0m\n\u001b[1;32m----> 1\u001b[1;33m \u001b[1;32mfor\u001b[0m \u001b[0mf\u001b[0m \u001b[1;32min\u001b[0m \u001b[0mall_filenames\u001b[0m\u001b[1;33m:\u001b[0m\u001b[1;33m\u001b[0m\u001b[1;33m\u001b[0m\u001b[0m\n\u001b[0m\u001b[0;32m      2\u001b[0m     \u001b[0mprint\u001b[0m\u001b[1;33m(\u001b[0m\u001b[1;34m\"---------------------\"\u001b[0m\u001b[1;33m)\u001b[0m\u001b[1;33m\u001b[0m\u001b[1;33m\u001b[0m\u001b[0m\n\u001b[0;32m      3\u001b[0m     \u001b[0mprint\u001b[0m\u001b[1;33m(\u001b[0m\u001b[1;34m\"The file is \"\u001b[0m\u001b[1;33m+\u001b[0m \u001b[0mf\u001b[0m\u001b[1;33m)\u001b[0m\u001b[1;33m\u001b[0m\u001b[1;33m\u001b[0m\u001b[0m\n\u001b[0;32m      4\u001b[0m     \u001b[0mprint\u001b[0m\u001b[1;33m(\u001b[0m\u001b[0mpd\u001b[0m\u001b[1;33m.\u001b[0m\u001b[0mread_csv\u001b[0m\u001b[1;33m(\u001b[0m\u001b[0mf\u001b[0m\u001b[1;33m)\u001b[0m\u001b[1;33m.\u001b[0m\u001b[0mcolumns\u001b[0m\u001b[1;33m)\u001b[0m\u001b[1;33m\u001b[0m\u001b[1;33m\u001b[0m\u001b[0m\n\u001b[0;32m      5\u001b[0m \u001b[1;33m\u001b[0m\u001b[0m\n",
      "\u001b[1;31mNameError\u001b[0m: name 'all_filenames' is not defined"
     ]
    }
   ],
   "source": [
    "for f in all_filenames:\n",
    "    print(\"---------------------\")\n",
    "    print(\"The file is \"+ f)\n",
    "    print(pd.read_csv(f).columns)\n",
    "    "
   ]
  },
  {
   "cell_type": "markdown",
   "metadata": {},
   "source": [
    "# Select files for 2020\n",
    "Down below we can see a summary of the dates contained in each csv file, we are only interested in the data recorded for year 2020, so we will save this file names in a new list in order to merge them later"
   ]
  },
  {
   "cell_type": "markdown",
   "metadata": {},
   "source": [
    "| File name | Date Range |\n",
    "| :----| :----|\n",
    "| 200731_base_historica.csv   | (20-06-29 al 20-07-31) |\n",
    "| 200819_base_historica.csv | (20-08-01 al 20-08-19) |\n",
    "| historico_sinave_sem1_ago20.csv | (20-08-20 al 20-08-26) |\n",
    "| historico_sinave_sem2_ago20.csv | (20-08-27 al 20-09-02) |\n",
    "| historico_sinave_sem36_ago20.csv | (20-08-31 al 20-09-06) |\n",
    "| historico-sinave.csv | (20-09-05 al 20-12-13) |\n",
    "| historico_sinave_sem51_dic20.csv | (20-12-14 al 20-12-20) |\n",
    "| historico_sinave_sem52_dic20.csv | (20-12-21 al 20-12-27) |\n",
    "| historico_sinave_sem53_dic20.csv | (20-12-28 al 21-01-03) |"
   ]
  },
  {
   "cell_type": "code",
   "execution_count": 3,
   "metadata": {},
   "outputs": [],
   "source": [
    "file_names2020=['200731_base_historica.csv', '200819_base_historica.csv', 'historico_sinave_sem1_ago20.csv', 'historico_sinave_sem2_ago20.csv', 'historico_sinave_sem36_ago20.csv', 'historico-sinave.csv', 'historico_sinave_sem51_dic20.csv', 'historico_sinave_sem52_dic20.csv', 'historico_sinave_sem53_dic20.csv']"
   ]
  },
  {
   "cell_type": "markdown",
   "metadata": {},
   "source": [
    "## Merging and Clean\n",
    "\n",
    "The process to combine all csv files was through merge method and drop the extra lines added of *Alcaldia* and *Colonia*.\n",
    "<br>\n",
    "At the end we can see a final clean dropping some columns not needed and renaming some dates headers."
   ]
  },
  {
   "cell_type": "code",
   "execution_count": 4,
   "metadata": {
    "scrolled": false
   },
   "outputs": [],
   "source": [
    "dfmerge=[]\n",
    "\n",
    "dfmerge = pd.read_csv('Historico Sinave/'+file_names2020[0])\n",
    "dfmerge = dfmerge.rename(columns={\"colonia\":\"Colonia\",'alcaldia':'Alcaldia'})\n",
    "i=1\n",
    "\n",
    "for f in file_names2020[1:]:\n",
    "    \n",
    "    df2=pd.read_csv('Historico Sinave/'+f)\n",
    "    \n",
    "    dfmerge = dfmerge.merge(df2, how=\"outer\", on=\"clave_colonia\")\n",
    "    dfmerge.drop(['alcaldia','colonia'],axis=1, inplace=True)\n",
    "    dfmerge.columns\n",
    "    \n",
    "    i += 1\n",
    "\n",
    "    \n",
    "\n",
    "dfmerge.drop(['Unnamed: 0_x','Unnamed: 0_y','Unnamed: 0','total_200831_y', 'total_200901_y', \n",
    "              'total_200902_y','total_200905_y', 'total_200906_y'],axis=1, inplace=True)\n",
    "\n",
    "dfmerge=dfmerge.rename(columns={'total_200831_x':'total_200831', 'total_200901_x':'total_200901', \n",
    "                                'total_200902_x':'total_200902','total_200905_x':'total_200905', \n",
    "                                'total_200906_x':'total_200906'})\n"
   ]
  },
  {
   "cell_type": "code",
   "execution_count": 5,
   "metadata": {},
   "outputs": [
    {
     "data": {
      "text/html": [
       "<div>\n",
       "<style scoped>\n",
       "    .dataframe tbody tr th:only-of-type {\n",
       "        vertical-align: middle;\n",
       "    }\n",
       "\n",
       "    .dataframe tbody tr th {\n",
       "        vertical-align: top;\n",
       "    }\n",
       "\n",
       "    .dataframe thead th {\n",
       "        text-align: right;\n",
       "    }\n",
       "</style>\n",
       "<table border=\"1\" class=\"dataframe\">\n",
       "  <thead>\n",
       "    <tr style=\"text-align: right;\">\n",
       "      <th></th>\n",
       "      <th>Alcaldia</th>\n",
       "      <th>Colonia</th>\n",
       "      <th>clave_colonia</th>\n",
       "      <th>total_200629</th>\n",
       "      <th>total_200630</th>\n",
       "      <th>total_200701</th>\n",
       "      <th>total_200702</th>\n",
       "      <th>total_200703</th>\n",
       "      <th>total_200704</th>\n",
       "      <th>total_200705</th>\n",
       "      <th>...</th>\n",
       "      <th>total_201225</th>\n",
       "      <th>total_201226</th>\n",
       "      <th>total_201227</th>\n",
       "      <th>total_201228</th>\n",
       "      <th>total_201229</th>\n",
       "      <th>total_201230</th>\n",
       "      <th>total_201231</th>\n",
       "      <th>total_210101</th>\n",
       "      <th>total_210102</th>\n",
       "      <th>total_210103</th>\n",
       "    </tr>\n",
       "  </thead>\n",
       "  <tbody>\n",
       "    <tr>\n",
       "      <th>0</th>\n",
       "      <td>GUSTAVO A. MADERO</td>\n",
       "      <td>BENITO JUAREZ</td>\n",
       "      <td>05-011</td>\n",
       "      <td>NaN</td>\n",
       "      <td>6.0</td>\n",
       "      <td>NaN</td>\n",
       "      <td>NaN</td>\n",
       "      <td>NaN</td>\n",
       "      <td>NaN</td>\n",
       "      <td>NaN</td>\n",
       "      <td>...</td>\n",
       "      <td>17.0</td>\n",
       "      <td>15.0</td>\n",
       "      <td>17.0</td>\n",
       "      <td>16.0</td>\n",
       "      <td>21.0</td>\n",
       "      <td>21.0</td>\n",
       "      <td>23.0</td>\n",
       "      <td>24.0</td>\n",
       "      <td>24.0</td>\n",
       "      <td>23.0</td>\n",
       "    </tr>\n",
       "    <tr>\n",
       "      <th>1</th>\n",
       "      <td>GUSTAVO A. MADERO</td>\n",
       "      <td>CONSTITUCION DE LA REPUBLICA</td>\n",
       "      <td>05-029</td>\n",
       "      <td>8.0</td>\n",
       "      <td>7.0</td>\n",
       "      <td>NaN</td>\n",
       "      <td>NaN</td>\n",
       "      <td>NaN</td>\n",
       "      <td>NaN</td>\n",
       "      <td>NaN</td>\n",
       "      <td>...</td>\n",
       "      <td>44.0</td>\n",
       "      <td>38.0</td>\n",
       "      <td>37.0</td>\n",
       "      <td>31.0</td>\n",
       "      <td>32.0</td>\n",
       "      <td>31.0</td>\n",
       "      <td>30.0</td>\n",
       "      <td>26.0</td>\n",
       "      <td>23.0</td>\n",
       "      <td>17.0</td>\n",
       "    </tr>\n",
       "    <tr>\n",
       "      <th>2</th>\n",
       "      <td>GUSTAVO A. MADERO</td>\n",
       "      <td>CTM ATZACOALCO (U HAB)</td>\n",
       "      <td>05-031</td>\n",
       "      <td>NaN</td>\n",
       "      <td>NaN</td>\n",
       "      <td>NaN</td>\n",
       "      <td>NaN</td>\n",
       "      <td>NaN</td>\n",
       "      <td>NaN</td>\n",
       "      <td>NaN</td>\n",
       "      <td>...</td>\n",
       "      <td>29.0</td>\n",
       "      <td>30.0</td>\n",
       "      <td>31.0</td>\n",
       "      <td>28.0</td>\n",
       "      <td>22.0</td>\n",
       "      <td>23.0</td>\n",
       "      <td>20.0</td>\n",
       "      <td>20.0</td>\n",
       "      <td>22.0</td>\n",
       "      <td>20.0</td>\n",
       "    </tr>\n",
       "    <tr>\n",
       "      <th>3</th>\n",
       "      <td>GUSTAVO A. MADERO</td>\n",
       "      <td>CTM EL RISCO (U HAB)</td>\n",
       "      <td>05-032</td>\n",
       "      <td>NaN</td>\n",
       "      <td>NaN</td>\n",
       "      <td>NaN</td>\n",
       "      <td>NaN</td>\n",
       "      <td>NaN</td>\n",
       "      <td>NaN</td>\n",
       "      <td>NaN</td>\n",
       "      <td>...</td>\n",
       "      <td>37.0</td>\n",
       "      <td>36.0</td>\n",
       "      <td>33.0</td>\n",
       "      <td>28.0</td>\n",
       "      <td>25.0</td>\n",
       "      <td>22.0</td>\n",
       "      <td>22.0</td>\n",
       "      <td>17.0</td>\n",
       "      <td>17.0</td>\n",
       "      <td>14.0</td>\n",
       "    </tr>\n",
       "    <tr>\n",
       "      <th>4</th>\n",
       "      <td>GUSTAVO A. MADERO</td>\n",
       "      <td>CUCHILLA DEL TESORO</td>\n",
       "      <td>05-035</td>\n",
       "      <td>12.0</td>\n",
       "      <td>11.0</td>\n",
       "      <td>11.0</td>\n",
       "      <td>11.0</td>\n",
       "      <td>11.0</td>\n",
       "      <td>12.0</td>\n",
       "      <td>13.0</td>\n",
       "      <td>...</td>\n",
       "      <td>57.0</td>\n",
       "      <td>57.0</td>\n",
       "      <td>54.0</td>\n",
       "      <td>53.0</td>\n",
       "      <td>61.0</td>\n",
       "      <td>68.0</td>\n",
       "      <td>71.0</td>\n",
       "      <td>65.0</td>\n",
       "      <td>60.0</td>\n",
       "      <td>51.0</td>\n",
       "    </tr>\n",
       "  </tbody>\n",
       "</table>\n",
       "<p>5 rows × 188 columns</p>\n",
       "</div>"
      ],
      "text/plain": [
       "            Alcaldia                       Colonia clave_colonia  \\\n",
       "0  GUSTAVO A. MADERO                 BENITO JUAREZ        05-011   \n",
       "1  GUSTAVO A. MADERO  CONSTITUCION DE LA REPUBLICA        05-029   \n",
       "2  GUSTAVO A. MADERO        CTM ATZACOALCO (U HAB)        05-031   \n",
       "3  GUSTAVO A. MADERO          CTM EL RISCO (U HAB)        05-032   \n",
       "4  GUSTAVO A. MADERO           CUCHILLA DEL TESORO        05-035   \n",
       "\n",
       "   total_200629  total_200630  total_200701  total_200702  total_200703  \\\n",
       "0           NaN           6.0           NaN           NaN           NaN   \n",
       "1           8.0           7.0           NaN           NaN           NaN   \n",
       "2           NaN           NaN           NaN           NaN           NaN   \n",
       "3           NaN           NaN           NaN           NaN           NaN   \n",
       "4          12.0          11.0          11.0          11.0          11.0   \n",
       "\n",
       "   total_200704  total_200705  ...  total_201225  total_201226  total_201227  \\\n",
       "0           NaN           NaN  ...          17.0          15.0          17.0   \n",
       "1           NaN           NaN  ...          44.0          38.0          37.0   \n",
       "2           NaN           NaN  ...          29.0          30.0          31.0   \n",
       "3           NaN           NaN  ...          37.0          36.0          33.0   \n",
       "4          12.0          13.0  ...          57.0          57.0          54.0   \n",
       "\n",
       "   total_201228  total_201229  total_201230  total_201231  total_210101  \\\n",
       "0          16.0          21.0          21.0          23.0          24.0   \n",
       "1          31.0          32.0          31.0          30.0          26.0   \n",
       "2          28.0          22.0          23.0          20.0          20.0   \n",
       "3          28.0          25.0          22.0          22.0          17.0   \n",
       "4          53.0          61.0          68.0          71.0          65.0   \n",
       "\n",
       "   total_210102  total_210103  \n",
       "0          24.0          23.0  \n",
       "1          23.0          17.0  \n",
       "2          22.0          20.0  \n",
       "3          17.0          14.0  \n",
       "4          60.0          51.0  \n",
       "\n",
       "[5 rows x 188 columns]"
      ]
     },
     "execution_count": 5,
     "metadata": {},
     "output_type": "execute_result"
    }
   ],
   "source": [
    "dfmerge.head()"
   ]
  },
  {
   "cell_type": "markdown",
   "metadata": {},
   "source": [
    "## Outliers\n",
    "\n",
    "While doing the last plot, we saw a outlier of cases for the date (13/12/2020) with a total of **32,863 cases**.\n",
    "<br>\n",
    "\n",
    "When we display that particular day, we notice this value is only registered in one row, we excluded this day from the analysis as we want to see cases by each neighbourhood."
   ]
  },
  {
   "cell_type": "code",
   "execution_count": 6,
   "metadata": {},
   "outputs": [
    {
     "data": {
      "text/html": [
       "<div>\n",
       "<style scoped>\n",
       "    .dataframe tbody tr th:only-of-type {\n",
       "        vertical-align: middle;\n",
       "    }\n",
       "\n",
       "    .dataframe tbody tr th {\n",
       "        vertical-align: top;\n",
       "    }\n",
       "\n",
       "    .dataframe thead th {\n",
       "        text-align: right;\n",
       "    }\n",
       "</style>\n",
       "<table border=\"1\" class=\"dataframe\">\n",
       "  <thead>\n",
       "    <tr style=\"text-align: right;\">\n",
       "      <th></th>\n",
       "      <th>Colonia</th>\n",
       "      <th>total_201213</th>\n",
       "    </tr>\n",
       "  </thead>\n",
       "  <tbody>\n",
       "    <tr>\n",
       "      <th>0</th>\n",
       "      <td>BENITO JUAREZ</td>\n",
       "      <td>NaN</td>\n",
       "    </tr>\n",
       "    <tr>\n",
       "      <th>1</th>\n",
       "      <td>CONSTITUCION DE LA REPUBLICA</td>\n",
       "      <td>NaN</td>\n",
       "    </tr>\n",
       "    <tr>\n",
       "      <th>2</th>\n",
       "      <td>CTM ATZACOALCO (U HAB)</td>\n",
       "      <td>NaN</td>\n",
       "    </tr>\n",
       "    <tr>\n",
       "      <th>3</th>\n",
       "      <td>CTM EL RISCO (U HAB)</td>\n",
       "      <td>NaN</td>\n",
       "    </tr>\n",
       "    <tr>\n",
       "      <th>4</th>\n",
       "      <td>CUCHILLA DEL TESORO</td>\n",
       "      <td>NaN</td>\n",
       "    </tr>\n",
       "    <tr>\n",
       "      <th>...</th>\n",
       "      <td>...</td>\n",
       "      <td>...</td>\n",
       "    </tr>\n",
       "    <tr>\n",
       "      <th>1584</th>\n",
       "      <td>NaN</td>\n",
       "      <td>NaN</td>\n",
       "    </tr>\n",
       "    <tr>\n",
       "      <th>1585</th>\n",
       "      <td>NaN</td>\n",
       "      <td>NaN</td>\n",
       "    </tr>\n",
       "    <tr>\n",
       "      <th>1586</th>\n",
       "      <td>NaN</td>\n",
       "      <td>NaN</td>\n",
       "    </tr>\n",
       "    <tr>\n",
       "      <th>1587</th>\n",
       "      <td>NaN</td>\n",
       "      <td>NaN</td>\n",
       "    </tr>\n",
       "    <tr>\n",
       "      <th>1588</th>\n",
       "      <td>NaN</td>\n",
       "      <td>NaN</td>\n",
       "    </tr>\n",
       "  </tbody>\n",
       "</table>\n",
       "<p>1589 rows × 2 columns</p>\n",
       "</div>"
      ],
      "text/plain": [
       "                           Colonia  total_201213\n",
       "0                    BENITO JUAREZ           NaN\n",
       "1     CONSTITUCION DE LA REPUBLICA           NaN\n",
       "2           CTM ATZACOALCO (U HAB)           NaN\n",
       "3             CTM EL RISCO (U HAB)           NaN\n",
       "4              CUCHILLA DEL TESORO           NaN\n",
       "...                            ...           ...\n",
       "1584                           NaN           NaN\n",
       "1585                           NaN           NaN\n",
       "1586                           NaN           NaN\n",
       "1587                           NaN           NaN\n",
       "1588                           NaN           NaN\n",
       "\n",
       "[1589 rows x 2 columns]"
      ]
     },
     "execution_count": 6,
     "metadata": {},
     "output_type": "execute_result"
    }
   ],
   "source": [
    "# Line 610\n",
    "dfmerge[['Colonia','total_201213']]"
   ]
  },
  {
   "cell_type": "code",
   "execution_count": 7,
   "metadata": {},
   "outputs": [
    {
     "name": "stdout",
     "output_type": "stream",
     "text": [
      "32863.0\n"
     ]
    }
   ],
   "source": [
    "print(dfmerge['total_201213'].max())\n",
    "del dfmerge['total_201213']"
   ]
  },
  {
   "cell_type": "markdown",
   "metadata": {},
   "source": [
    "## Unpivot Date columns\n",
    "\n",
    "In order to transpose all date columns in one, we used the stack method containing all columns that we wanted to tranpose."
   ]
  },
  {
   "cell_type": "code",
   "execution_count": 8,
   "metadata": {},
   "outputs": [],
   "source": [
    "columns=list(dfmerge.columns)\n",
    "columns.remove('Alcaldia')\n",
    "columns.remove('Colonia')\n",
    "# columns"
   ]
  },
  {
   "cell_type": "code",
   "execution_count": 9,
   "metadata": {},
   "outputs": [],
   "source": [
    "new_df=dfmerge[columns].set_index('clave_colonia').stack().reset_index()\n",
    "new_df=new_df.rename(columns={'clave_colonia':'Clave','level_1':'Fecha', 0:'Casos positivos'})\n",
    "new_df['Fecha']=new_df['Fecha'].str.replace('total_','')"
   ]
  },
  {
   "cell_type": "code",
   "execution_count": 10,
   "metadata": {},
   "outputs": [
    {
     "data": {
      "text/plain": [
       "<AxesSubplot:xlabel='Fecha'>"
      ]
     },
     "execution_count": 10,
     "metadata": {},
     "output_type": "execute_result"
    },
    {
     "data": {
      "image/png": "[encoded data removed]",
      "text/plain": [
       "<Figure size 432x288 with 1 Axes>"
      ]
     },
     "metadata": {
      "needs_background": "light"
     },
     "output_type": "display_data"
    }
   ],
   "source": [
    "casos=new_df.groupby('Fecha').sum()\n",
    "casos.plot()"
   ]
  },
  {
   "cell_type": "markdown",
   "metadata": {},
   "source": [
    "## Export Clean Data Frame to csv"
   ]
  },
  {
   "cell_type": "code",
   "execution_count": 11,
   "metadata": {},
   "outputs": [],
   "source": [
    "casos.to_csv('Covid 19 Average by Date')\n",
    "new_df.to_csv('Covid 19 by Date')"
   ]
  },
  {
   "cell_type": "markdown",
   "metadata": {},
   "source": [
    "## Extra"
   ]
  },
  {
   "cell_type": "code",
   "execution_count": null,
   "metadata": {},
   "outputs": [],
   "source": []
  },
  {
   "cell_type": "code",
   "execution_count": 12,
   "metadata": {},
   "outputs": [],
   "source": [
    "# 2020 csv files\n",
    "\n",
    "# 200731_base_historica.csv (20-06-29 al 20-07-31)\n",
    "# 200819_base_historica.csv (20-08-01 al 20-08-19)\n",
    "# historico_sinave_sem1_ago20.csv (20-08-20 al 20-08-26)\n",
    "# historico_sinave_sem2_ago20.csv (20-08-27 al 20-09-02)\n",
    "# historico_sinave_sem36_ago20.csv (20-08-31 al 20-09-06)\n",
    "# historico-sinave.csv (20-09-05 al 20-12-13)\n",
    "# historico_sinave_sem51_dic20.csv (20-12-14 al 20-12-20)\n",
    "# historico_sinave_sem52_dic20.csv (20-12-21 al 20-12-27)\n",
    "# historico_sinave_sem53_dic20.csv (20-12-28 al 21-01-03)\n",
    "\n",
    "# 2021 csv files\n",
    "# historico_sinave_sem1_ene21.csv (21-01-04 AL 21-01-10)\n",
    "# historico_sinave_sem2_ene21.csv (21-01-11 al 21-01-17)\n",
    "# historico_sinave_sem3_ene21.csv (21-01-18 al 21-01-24)\n",
    "# historico_sinave_sem4_ene21.csv (21-01-25 al 21-01-31)\n",
    "# historico_sinave_sem5_ene21.csv (21-02-01 al 21-02-07)\n",
    "# historico_sinave_sem6_feb21.csv (21-02-08 al 21-02-14)\n",
    "# historico_sinave_sem7_feb21.csv (21-02-15 al 21-02-21)\n",
    "# historico_sinave_sem8_feb21.csv (21-02-22 al 21-02-28)\n",
    "# historico_sinave_sem9_feb21.csv (21-03-01 al 21-03-07)\n",
    "# historico_sinave_sem10_mar21.csv\n",
    "# historico_sinave_sem11_mar21.csv\n",
    "# historico_sinave_sem12_mar21.csv"
   ]
  },
  {
   "cell_type": "code",
   "execution_count": 13,
   "metadata": {},
   "outputs": [],
   "source": [
    "## Color Maped Casses"
   ]
  },
  {
   "cell_type": "code",
   "execution_count": 52,
   "metadata": {},
   "outputs": [
    {
     "data": {
      "text/html": [
       "<div>\n",
       "<style scoped>\n",
       "    .dataframe tbody tr th:only-of-type {\n",
       "        vertical-align: middle;\n",
       "    }\n",
       "\n",
       "    .dataframe tbody tr th {\n",
       "        vertical-align: top;\n",
       "    }\n",
       "\n",
       "    .dataframe thead th {\n",
       "        text-align: right;\n",
       "    }\n",
       "</style>\n",
       "<table border=\"1\" class=\"dataframe\">\n",
       "  <thead>\n",
       "    <tr style=\"text-align: right;\">\n",
       "      <th></th>\n",
       "      <th>Clave</th>\n",
       "      <th>Fecha</th>\n",
       "      <th>Casos positivos</th>\n",
       "    </tr>\n",
       "  </thead>\n",
       "  <tbody>\n",
       "    <tr>\n",
       "      <th>0</th>\n",
       "      <td>05-011</td>\n",
       "      <td>2020-06-30</td>\n",
       "      <td>6.0</td>\n",
       "    </tr>\n",
       "    <tr>\n",
       "      <th>1</th>\n",
       "      <td>05-011</td>\n",
       "      <td>2020-09-03</td>\n",
       "      <td>8.0</td>\n",
       "    </tr>\n",
       "    <tr>\n",
       "      <th>2</th>\n",
       "      <td>05-011</td>\n",
       "      <td>2020-09-04</td>\n",
       "      <td>8.0</td>\n",
       "    </tr>\n",
       "    <tr>\n",
       "      <th>3</th>\n",
       "      <td>05-011</td>\n",
       "      <td>2020-09-05</td>\n",
       "      <td>7.0</td>\n",
       "    </tr>\n",
       "    <tr>\n",
       "      <th>4</th>\n",
       "      <td>05-011</td>\n",
       "      <td>2020-09-06</td>\n",
       "      <td>7.0</td>\n",
       "    </tr>\n",
       "    <tr>\n",
       "      <th>...</th>\n",
       "      <td>...</td>\n",
       "      <td>...</td>\n",
       "      <td>...</td>\n",
       "    </tr>\n",
       "    <tr>\n",
       "      <th>84949</th>\n",
       "      <td>10-170</td>\n",
       "      <td>2020-12-05</td>\n",
       "      <td>7.0</td>\n",
       "    </tr>\n",
       "    <tr>\n",
       "      <th>84950</th>\n",
       "      <td>12-014</td>\n",
       "      <td>2020-12-05</td>\n",
       "      <td>6.0</td>\n",
       "    </tr>\n",
       "    <tr>\n",
       "      <th>84951</th>\n",
       "      <td>12-059</td>\n",
       "      <td>2020-12-05</td>\n",
       "      <td>6.0</td>\n",
       "    </tr>\n",
       "    <tr>\n",
       "      <th>84952</th>\n",
       "      <td>12-084</td>\n",
       "      <td>2020-12-05</td>\n",
       "      <td>6.0</td>\n",
       "    </tr>\n",
       "    <tr>\n",
       "      <th>84953</th>\n",
       "      <td>13-059</td>\n",
       "      <td>2020-12-05</td>\n",
       "      <td>8.0</td>\n",
       "    </tr>\n",
       "  </tbody>\n",
       "</table>\n",
       "<p>84954 rows × 3 columns</p>\n",
       "</div>"
      ],
      "text/plain": [
       "        Clave      Fecha  Casos positivos\n",
       "0      05-011 2020-06-30              6.0\n",
       "1      05-011 2020-09-03              8.0\n",
       "2      05-011 2020-09-04              8.0\n",
       "3      05-011 2020-09-05              7.0\n",
       "4      05-011 2020-09-06              7.0\n",
       "...       ...        ...              ...\n",
       "84949  10-170 2020-12-05              7.0\n",
       "84950  12-014 2020-12-05              6.0\n",
       "84951  12-059 2020-12-05              6.0\n",
       "84952  12-084 2020-12-05              6.0\n",
       "84953  13-059 2020-12-05              8.0\n",
       "\n",
       "[84954 rows x 3 columns]"
      ]
     },
     "execution_count": 52,
     "metadata": {},
     "output_type": "execute_result"
    }
   ],
   "source": [
    "new_df['Fecha'] = pd.to_datetime(new_df['Fecha'], format='%y%m%d')\n",
    "new_df"
   ]
  },
  {
   "cell_type": "code",
   "execution_count": 53,
   "metadata": {},
   "outputs": [
    {
     "name": "stdout",
     "output_type": "stream",
     "text": [
      "Clave                      object\n",
      "Fecha              datetime64[ns]\n",
      "Casos positivos           float64\n",
      "dtype: object\n"
     ]
    }
   ],
   "source": [
    "print(new_df.dtypes)"
   ]
  },
  {
   "cell_type": "code",
   "execution_count": null,
   "metadata": {},
   "outputs": [],
   "source": []
  },
  {
   "cell_type": "code",
   "execution_count": 56,
   "metadata": {},
   "outputs": [],
   "source": [
    "import numpy as np; np.random.seed(sum(map(ord, 'calmap')))\n",
    "import pandas as pd\n",
    "import calmap\n",
    "\n",
    "all_days = pd.date_range('30/06/2020',  periods=185, freq='D')\n"
   ]
  },
  {
   "cell_type": "code",
   "execution_count": 63,
   "metadata": {
    "scrolled": false
   },
   "outputs": [
    {
     "data": {
      "text/plain": [
       "Fecha\n",
       "2020-06-29     2177.0\n",
       "2020-06-30     2312.0\n",
       "2020-07-01     2105.0\n",
       "2020-07-02     2348.0\n",
       "2020-07-03     2680.0\n",
       "               ...   \n",
       "2020-12-30    31351.0\n",
       "2020-12-31    31251.0\n",
       "2021-01-01    30980.0\n",
       "2021-01-02    29200.0\n",
       "2021-01-03    26444.0\n",
       "Name: Casos positivos, Length: 184, dtype: float64"
      ]
     },
     "execution_count": 63,
     "metadata": {},
     "output_type": "execute_result"
    }
   ],
   "source": [
    "casos_dia = new_df.groupby('Fecha')[\"Casos positivos\"].sum()\n",
    "casos_dia"
   ]
  },
  {
   "cell_type": "code",
   "execution_count": null,
   "metadata": {},
   "outputs": [],
   "source": [
    "semaforo = "
   ]
  },
  {
   "cell_type": "code",
   "execution_count": null,
   "metadata": {},
   "outputs": [],
   "source": []
  },
  {
   "cell_type": "code",
   "execution_count": null,
   "metadata": {},
   "outputs": [],
   "source": []
  },
  {
   "cell_type": "code",
   "execution_count": 84,
   "metadata": {},
   "outputs": [
    {
     "data": {
      "text/plain": [
       "<AxesSubplot:>"
      ]
     },
     "execution_count": 84,
     "metadata": {},
     "output_type": "execute_result"
    },
    {
     "data": {
      "image/png": "[encoded data removed]",
      "text/plain": [
       "<Figure size 1080x720 with 1 Axes>"
      ]
     },
     "metadata": {
      "needs_background": "light"
     },
     "output_type": "display_data"
    },
    {
     "data": {
      "image/png": "[encoded data removed]",
      "text/plain": [
       "<Figure size 1080x720 with 1 Axes>"
      ]
     },
     "metadata": {
      "needs_background": "light"
     },
     "output_type": "display_data"
    }
   ],
   "source": [
    "f1, ax = plt.subplots(1, 1, figsize = (15, 10))\n",
    "calmap.yearplot(casos_dia, year=2020, linewidth=0)\n",
    "\n",
    "f2, ax = plt.subplots(1, 1, figsize = (15, 10))\n",
    "calmap.yearplot(casos_dia, year=2020, linewidth=0)\n"
   ]
  },
  {
   "cell_type": "code",
   "execution_count": null,
   "metadata": {},
   "outputs": [],
   "source": []
  },
  {
   "cell_type": "code",
   "execution_count": null,
   "metadata": {},
   "outputs": [],
   "source": []
  },
  {
   "cell_type": "code",
   "execution_count": 67,
   "metadata": {},
   "outputs": [
    {
     "data": {
      "text/plain": [
       "(<Figure size 576x288 with 1 Axes>,\n",
       " array([<AxesSubplot:ylabel='2020'>], dtype=object))"
      ]
     },
     "execution_count": 67,
     "metadata": {},
     "output_type": "execute_result"
    },
    {
     "data": {
      "image/png": "[encoded data removed]",
      "text/plain": [
       "<Figure size 576x288 with 1 Axes>"
      ]
     },
     "metadata": {
      "needs_background": "light"
     },
     "output_type": "display_data"
    }
   ],
   "source": [
    "calmap.calendarplot(events, monthticks=3, daylabels='MTWTFSS',\n",
    "                    dayticks=[0, 2, 4, 6], cmap='YlGn',\n",
    "                    fillcolor='grey', linewidth=0,\n",
    "                    fig_kws=dict(figsize=(8, 4)))"
   ]
  }
 ],
 "metadata": {
  "anaconda-cloud": {},
  "kernelspec": {
   "display_name": "Python 3",
   "language": "python",
   "name": "python3"
  },
  "language_info": {
   "codemirror_mode": {
    "name": "ipython",
    "version": 3
   },
   "file_extension": ".py",
   "mimetype": "text/x-python",
   "name": "python",
   "nbconvert_exporter": "python",
   "pygments_lexer": "ipython3",
   "version": "3.8.5"
  }
 },
 "nbformat": 4,
 "nbformat_minor": 4
}
