{
 "cells": [
  {
   "cell_type": "markdown",
   "id": "placed-peter",
   "metadata": {},
   "source": [
    "### Case Study: COVID-19 Evolution in Mexico City & Correlation with Proximity Retailing Activity\n",
    "\n",
    "##### 0.0 - Section Description\n",
    "\n",
    "insert description!!!\n",
    "\n",
    "##### 0.1 - Libraries, API keys, Configuration & Data Loading\n",
    "\n"
   ]
  },
  {
   "cell_type": "code",
   "execution_count": null,
   "id": "first-homework",
   "metadata": {},
   "outputs": [],
   "source": [
    "#Libraries\n",
    "import pandas as pd\n",
    "import geopandas as gpd #GIS dependency for spatial data manipulation\n",
    "import requests\n",
    "\n",
    "#API keys\n",
    "from api_keys import gkey"
   ]
  }
 ],
 "metadata": {
  "kernelspec": {
   "display_name": "Python 3",
   "language": "python",
   "name": "python3"
  },
  "language_info": {
   "codemirror_mode": {
    "name": "ipython",
    "version": 3
   },
   "file_extension": ".py",
   "mimetype": "text/x-python",
   "name": "python",
   "nbconvert_exporter": "python",
   "pygments_lexer": "ipython3",
   "version": "3.7.6"
  }
 },
 "nbformat": 4,
 "nbformat_minor": 5
}
