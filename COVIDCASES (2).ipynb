{
 "cells": [
  {
   "cell_type": "markdown",
   "metadata": {},
   "source": [
    "## COVID CASES in CDMX by code "
   ]
  },
  {
   "cell_type": "markdown",
   "metadata": {},
   "source": []
  },
  {
   "cell_type": "code",
   "execution_count": 1,
   "metadata": {},
   "outputs": [],
   "source": [
    "# Import packages and set the working directory\n",
    "\n",
    "import os\n",
    "import glob\n",
    "import pandas as pd\n",
    "# os.chdir(\"/directory\")\n"
   ]
  },
  {
   "cell_type": "code",
   "execution_count": 10,
   "metadata": {},
   "outputs": [
    {
     "data": {
      "text/plain": [
       "'C:\\\\Users\\\\pabli\\\\data-project\\\\COVID_CASES'"
      ]
     },
     "execution_count": 10,
     "metadata": {},
     "output_type": "execute_result"
    }
   ],
   "source": [
    "pwd"
   ]
  },
  {
   "cell_type": "code",
   "execution_count": 11,
   "metadata": {},
   "outputs": [],
   "source": [
    "os.chdir(\"/Users/pabli/data-project/COVID_CASES/Source\")\n"
   ]
  },
  {
   "cell_type": "code",
   "execution_count": 12,
   "metadata": {},
   "outputs": [
    {
     "name": "stdout",
     "output_type": "stream",
     "text": [
      "200701_base_historica.csv\n",
      "200702_base_historica.csv\n",
      "200703_base_historica.csv\n",
      "200704_base_historica.csv\n",
      "200705_base_historica.csv\n",
      "200706_base_historica.csv\n",
      "200707_base_historica.csv\n",
      "200708_base_historica.csv\n",
      "200709_base_historica.csv\n",
      "200710_base_historica.csv\n",
      "200711_base_historica.csv\n",
      "200712_base_historica.csv\n",
      "200713_base_historica.csv\n",
      "200714_base_historica.csv\n",
      "200715_base_historica.csv\n",
      "200716_base_historica.csv\n",
      "200717_base_historica.csv\n",
      "200718_base_historica.csv\n",
      "200719_base_historica.csv\n",
      "200720_base_historica.csv\n",
      "200721_base_historica.csv\n",
      "200722_base_historica.csv\n",
      "200723_base_historica.csv\n",
      "200724_base_historica.csv\n",
      "200726_base_historica.csv\n",
      "200727_base_historica.csv\n",
      "200728_base_historica.csv\n",
      "200729_base_historica.csv\n",
      "200730_base_historica.csv\n",
      "200731_base_historica.csv\n",
      "200801_base_historica.csv\n",
      "200802_base_historica.csv\n",
      "200803_base_historica.csv\n",
      "200804_base_historica.csv\n",
      "200806_base_historica.csv\n",
      "200807_base_historica.csv\n",
      "200808_base_historica.csv\n",
      "200809_base_historica.csv\n",
      "200810_base_historica.csv\n",
      "200811_base_historica.csv\n",
      "200812_base_historica.csv\n",
      "200813_base_historica.csv\n",
      "200814_base_historica.csv\n",
      "200815_base_historica.csv\n",
      "200819_base_historica.csv\n",
      "historico_sinave_sem1_ago20.csv\n",
      "historico_sinave_sem1_dic20.csv\n",
      "historico_sinave_sem1_ene21.csv\n",
      "historico_sinave_sem1_nov20.csv\n",
      "historico_sinave_sem1_oct20.csv\n",
      "historico_sinave_sem1_sep20.csv\n",
      "historico_sinave_sem10_mar21.csv\n",
      "historico_sinave_sem11_mar21.csv\n",
      "historico_sinave_sem12_mar21.csv\n",
      "historico_sinave_sem2_ago20.csv\n",
      "historico_sinave_sem2_dic20.csv\n",
      "historico_sinave_sem2_ene21.csv\n",
      "historico_sinave_sem2_feb21.csv\n",
      "historico_sinave_sem2_nov20.csv\n",
      "historico_sinave_sem2_oct20.csv\n",
      "historico_sinave_sem2_sep20.csv\n",
      "historico_sinave_sem3_ene21.csv\n",
      "historico_sinave_sem3_feb21.csv\n",
      "historico_sinave_sem3_nov20.csv\n",
      "historico_sinave_sem3_oct20.csv\n",
      "historico_sinave_sem3_sep20.csv\n",
      "historico_sinave_sem34_ago20.csv\n",
      "historico_sinave_sem35_ago20.csv\n",
      "historico_sinave_sem36_ago20.csv\n",
      "historico_sinave_sem37_sep20.csv\n",
      "historico_sinave_sem38_sep20.csv\n",
      "historico_sinave_sem39_sep20.csv\n",
      "historico_sinave_sem4_dic20.csv\n",
      "historico_sinave_sem4_dic21.csv\n",
      "historico_sinave_sem4_ene21.csv\n",
      "historico_sinave_sem4_nov20.csv\n",
      "historico_sinave_sem4_oct20.csv\n",
      "historico_sinave_sem4_sep20.csv\n",
      "historico_sinave_sem40_sep20.csv\n",
      "historico_sinave_sem41_oct20.csv\n",
      "historico_sinave_sem43_oct20.csv\n",
      "historico_sinave_sem44_oct20.csv\n",
      "historico_sinave_sem45_nov20.csv\n",
      "historico_sinave_sem46_nov20.csv\n",
      "historico_sinave_sem47_nov20.csv\n",
      "historico_sinave_sem48_nov20.csv\n",
      "historico_sinave_sem49_nov20.csv\n",
      "historico_sinave_sem5_ene21.csv\n",
      "historico_sinave_sem5_nov20.csv\n",
      "historico_sinave_sem50_dic20.csv\n",
      "historico_sinave_sem51_dic20.csv\n",
      "historico_sinave_sem52_dic20.csv\n",
      "historico_sinave_sem53_dic20.csv\n",
      "historico_sinave_sem6_feb21.csv\n",
      "historico_sinave_sem7_feb21.csv\n",
      "historico_sinave_sem8_feb21.csv\n",
      "historico_sinave_sem9_feb21.csv\n",
      "historico-sinave.csv\n"
     ]
    }
   ],
   "source": [
    "!ls \n"
   ]
  },
  {
   "cell_type": "code",
   "execution_count": 13,
   "metadata": {},
   "outputs": [
    {
     "name": "stdout",
     "output_type": "stream",
     "text": [
      "/c/Users/pabli/data-project/COVID_CASES/Source\n"
     ]
    }
   ],
   "source": [
    "!pwd\n"
   ]
  },
  {
   "cell_type": "code",
   "execution_count": 15,
   "metadata": {},
   "outputs": [
    {
     "name": "stdout",
     "output_type": "stream",
     "text": [
      "These are all of the filenames ending in .csv ['200701_base_historica.csv', '200702_base_historica.csv', '200703_base_historica.csv', '200704_base_historica.csv', '200705_base_historica.csv', '200706_base_historica.csv', '200707_base_historica.csv', '200708_base_historica.csv', '200709_base_historica.csv', '200710_base_historica.csv', '200711_base_historica.csv', '200712_base_historica.csv', '200713_base_historica.csv', '200714_base_historica.csv', '200715_base_historica.csv', '200716_base_historica.csv', '200717_base_historica.csv', '200718_base_historica.csv', '200719_base_historica.csv', '200720_base_historica.csv', '200721_base_historica.csv', '200722_base_historica.csv', '200723_base_historica.csv', '200724_base_historica.csv', '200726_base_historica.csv', '200727_base_historica.csv', '200728_base_historica.csv', '200729_base_historica.csv', '200730_base_historica.csv', '200731_base_historica.csv', '200801_base_historica.csv', '200802_base_historica.csv', '200803_base_historica.csv', '200804_base_historica.csv', '200806_base_historica.csv', '200807_base_historica.csv', '200808_base_historica.csv', '200809_base_historica.csv', '200810_base_historica.csv', '200811_base_historica.csv', '200812_base_historica.csv', '200813_base_historica.csv', '200814_base_historica.csv', '200815_base_historica.csv', '200819_base_historica.csv', 'historico-sinave.csv', 'historico_sinave_sem10_mar21.csv', 'historico_sinave_sem11_mar21.csv', 'historico_sinave_sem12_mar21.csv', 'historico_sinave_sem1_ago20.csv', 'historico_sinave_sem1_dic20.csv', 'historico_sinave_sem1_ene21.csv', 'historico_sinave_sem1_nov20.csv', 'historico_sinave_sem1_oct20.csv', 'historico_sinave_sem1_sep20.csv', 'historico_sinave_sem2_ago20.csv', 'historico_sinave_sem2_dic20.csv', 'historico_sinave_sem2_ene21.csv', 'historico_sinave_sem2_feb21.csv', 'historico_sinave_sem2_nov20.csv', 'historico_sinave_sem2_oct20.csv', 'historico_sinave_sem2_sep20.csv', 'historico_sinave_sem34_ago20.csv', 'historico_sinave_sem35_ago20.csv', 'historico_sinave_sem36_ago20.csv', 'historico_sinave_sem37_sep20.csv', 'historico_sinave_sem38_sep20.csv', 'historico_sinave_sem39_sep20.csv', 'historico_sinave_sem3_ene21.csv', 'historico_sinave_sem3_feb21.csv', 'historico_sinave_sem3_nov20.csv', 'historico_sinave_sem3_oct20.csv', 'historico_sinave_sem3_sep20.csv', 'historico_sinave_sem40_sep20.csv', 'historico_sinave_sem41_oct20.csv', 'historico_sinave_sem43_oct20.csv', 'historico_sinave_sem44_oct20.csv', 'historico_sinave_sem45_nov20.csv', 'historico_sinave_sem46_nov20.csv', 'historico_sinave_sem47_nov20.csv', 'historico_sinave_sem48_nov20.csv', 'historico_sinave_sem49_nov20.csv', 'historico_sinave_sem4_dic20.csv', 'historico_sinave_sem4_dic21.csv', 'historico_sinave_sem4_ene21.csv', 'historico_sinave_sem4_nov20.csv', 'historico_sinave_sem4_oct20.csv', 'historico_sinave_sem4_sep20.csv', 'historico_sinave_sem50_dic20.csv', 'historico_sinave_sem51_dic20.csv', 'historico_sinave_sem52_dic20.csv', 'historico_sinave_sem53_dic20.csv', 'historico_sinave_sem5_ene21.csv', 'historico_sinave_sem5_nov20.csv', 'historico_sinave_sem6_feb21.csv', 'historico_sinave_sem7_feb21.csv', 'historico_sinave_sem8_feb21.csv', 'historico_sinave_sem9_feb21.csv'].\n"
     ]
    }
   ],
   "source": [
    "#Use Global To Match The Pattern ‘.csv’\n",
    "\n",
    "file_extension = '.csv'\n",
    "all_filenames = [i for i in glob.glob(f\"*{file_extension}\")]\n",
    "\n",
    "print(f\"These are all of the filenames ending in .csv {all_filenames}.\")\n",
    "\n"
   ]
  },
  {
   "cell_type": "code",
   "execution_count": 16,
   "metadata": {},
   "outputs": [
    {
     "data": {
      "text/plain": [
       "'200701_base_historica.csv'"
      ]
     },
     "execution_count": 16,
     "metadata": {},
     "output_type": "execute_result"
    }
   ],
   "source": [
    "#Let’s Combine All Of The Files Within The List And Export as a CSV\n",
    "\n",
    "all_filenames[0]\n"
   ]
  },
  {
   "cell_type": "code",
   "execution_count": 19,
   "metadata": {},
   "outputs": [
    {
     "data": {
      "text/html": [
       "<div>\n",
       "<style scoped>\n",
       "    .dataframe tbody tr th:only-of-type {\n",
       "        vertical-align: middle;\n",
       "    }\n",
       "\n",
       "    .dataframe tbody tr th {\n",
       "        vertical-align: top;\n",
       "    }\n",
       "\n",
       "    .dataframe thead th {\n",
       "        text-align: right;\n",
       "    }\n",
       "</style>\n",
       "<table border=\"1\" class=\"dataframe\">\n",
       "  <thead>\n",
       "    <tr style=\"text-align: right;\">\n",
       "      <th></th>\n",
       "      <th>alcaldia,colonia,clave_colonia,</th>\n",
       "      <th>o</th>\n",
       "      <th>al_200629,</th>\n",
       "      <th>o.1</th>\n",
       "      <th>al_200630,</th>\n",
       "      <th>o.2</th>\n",
       "      <th>al_200701</th>\n",
       "    </tr>\n",
       "  </thead>\n",
       "  <tbody>\n",
       "    <tr>\n",
       "      <th>0</th>\n",
       "      <td>GUSTAVO A. MADERO,BENITO JUAREZ,05-011,NA,6,NA</td>\n",
       "      <td>NaN</td>\n",
       "      <td>NaN</td>\n",
       "      <td>NaN</td>\n",
       "      <td>NaN</td>\n",
       "      <td>NaN</td>\n",
       "      <td>NaN</td>\n",
       "    </tr>\n",
       "    <tr>\n",
       "      <th>1</th>\n",
       "      <td>GUSTAVO A. MADERO,CONSTITUCION DE LA REPUBLICA...</td>\n",
       "      <td>NaN</td>\n",
       "      <td>NaN</td>\n",
       "      <td>NaN</td>\n",
       "      <td>NaN</td>\n",
       "      <td>NaN</td>\n",
       "      <td>NaN</td>\n",
       "    </tr>\n",
       "    <tr>\n",
       "      <th>2</th>\n",
       "      <td>GUSTAVO A. MADERO,CUCHILLA DEL TESORO,05-035,1...</td>\n",
       "      <td>NaN</td>\n",
       "      <td>NaN</td>\n",
       "      <td>NaN</td>\n",
       "      <td>NaN</td>\n",
       "      <td>NaN</td>\n",
       "      <td>NaN</td>\n",
       "    </tr>\n",
       "    <tr>\n",
       "      <th>3</th>\n",
       "      <td>GUSTAVO A. MADERO,GERTRUDIS SANCHEZ 2A SECCION...</td>\n",
       "      <td>NaN</td>\n",
       "      <td>NaN</td>\n",
       "      <td>NaN</td>\n",
       "      <td>NaN</td>\n",
       "      <td>NaN</td>\n",
       "      <td>NaN</td>\n",
       "    </tr>\n",
       "    <tr>\n",
       "      <th>4</th>\n",
       "      <td>GUSTAVO A. MADERO,MARTIRES DE RIO BLANCO,05-12...</td>\n",
       "      <td>NaN</td>\n",
       "      <td>NaN</td>\n",
       "      <td>NaN</td>\n",
       "      <td>NaN</td>\n",
       "      <td>NaN</td>\n",
       "      <td>NaN</td>\n",
       "    </tr>\n",
       "    <tr>\n",
       "      <th>...</th>\n",
       "      <td>...</td>\n",
       "      <td>...</td>\n",
       "      <td>...</td>\n",
       "      <td>...</td>\n",
       "      <td>...</td>\n",
       "      <td>...</td>\n",
       "      <td>...</td>\n",
       "    </tr>\n",
       "    <tr>\n",
       "      <th>272</th>\n",
       "      <td>VENUSTIANO CARRANZA,EMILIO CARRANZA,17-025,NA,...</td>\n",
       "      <td>NaN</td>\n",
       "      <td>NaN</td>\n",
       "      <td>NaN</td>\n",
       "      <td>NaN</td>\n",
       "      <td>NaN</td>\n",
       "      <td>NaN</td>\n",
       "    </tr>\n",
       "    <tr>\n",
       "      <th>273</th>\n",
       "      <td>VENUSTIANO CARRANZA,ROMERO RUBIO,17-055,NA,6,6</td>\n",
       "      <td>NaN</td>\n",
       "      <td>NaN</td>\n",
       "      <td>NaN</td>\n",
       "      <td>NaN</td>\n",
       "      <td>NaN</td>\n",
       "      <td>NaN</td>\n",
       "    </tr>\n",
       "    <tr>\n",
       "      <th>274</th>\n",
       "      <td>VENUSTIANO CARRANZA,20 DE NOVIEMBRE,17-066,6,6,7</td>\n",
       "      <td>NaN</td>\n",
       "      <td>NaN</td>\n",
       "      <td>NaN</td>\n",
       "      <td>NaN</td>\n",
       "      <td>NaN</td>\n",
       "      <td>NaN</td>\n",
       "    </tr>\n",
       "    <tr>\n",
       "      <th>275</th>\n",
       "      <td>VENUSTIANO CARRANZA,MOCTEZUMA 2A SECCION III,1...</td>\n",
       "      <td>NaN</td>\n",
       "      <td>NaN</td>\n",
       "      <td>NaN</td>\n",
       "      <td>NaN</td>\n",
       "      <td>NaN</td>\n",
       "      <td>NaN</td>\n",
       "    </tr>\n",
       "    <tr>\n",
       "      <th>276</th>\n",
       "      <td>VENUSTIANO CARRANZA,MORELOS II,17-084,8,8,6</td>\n",
       "      <td>NaN</td>\n",
       "      <td>NaN</td>\n",
       "      <td>NaN</td>\n",
       "      <td>NaN</td>\n",
       "      <td>NaN</td>\n",
       "      <td>NaN</td>\n",
       "    </tr>\n",
       "  </tbody>\n",
       "</table>\n",
       "<p>277 rows × 7 columns</p>\n",
       "</div>"
      ],
      "text/plain": [
       "                       alcaldia,colonia,clave_colonia,   o  al_200629,  o.1  \\\n",
       "0       GUSTAVO A. MADERO,BENITO JUAREZ,05-011,NA,6,NA NaN         NaN  NaN   \n",
       "1    GUSTAVO A. MADERO,CONSTITUCION DE LA REPUBLICA... NaN         NaN  NaN   \n",
       "2    GUSTAVO A. MADERO,CUCHILLA DEL TESORO,05-035,1... NaN         NaN  NaN   \n",
       "3    GUSTAVO A. MADERO,GERTRUDIS SANCHEZ 2A SECCION... NaN         NaN  NaN   \n",
       "4    GUSTAVO A. MADERO,MARTIRES DE RIO BLANCO,05-12... NaN         NaN  NaN   \n",
       "..                                                 ...  ..         ...  ...   \n",
       "272  VENUSTIANO CARRANZA,EMILIO CARRANZA,17-025,NA,... NaN         NaN  NaN   \n",
       "273     VENUSTIANO CARRANZA,ROMERO RUBIO,17-055,NA,6,6 NaN         NaN  NaN   \n",
       "274   VENUSTIANO CARRANZA,20 DE NOVIEMBRE,17-066,6,6,7 NaN         NaN  NaN   \n",
       "275  VENUSTIANO CARRANZA,MOCTEZUMA 2A SECCION III,1... NaN         NaN  NaN   \n",
       "276        VENUSTIANO CARRANZA,MORELOS II,17-084,8,8,6 NaN         NaN  NaN   \n",
       "\n",
       "     al_200630,  o.2  al_200701  \n",
       "0           NaN  NaN        NaN  \n",
       "1           NaN  NaN        NaN  \n",
       "2           NaN  NaN        NaN  \n",
       "3           NaN  NaN        NaN  \n",
       "4           NaN  NaN        NaN  \n",
       "..          ...  ...        ...  \n",
       "272         NaN  NaN        NaN  \n",
       "273         NaN  NaN        NaN  \n",
       "274         NaN  NaN        NaN  \n",
       "275         NaN  NaN        NaN  \n",
       "276         NaN  NaN        NaN  \n",
       "\n",
       "[277 rows x 7 columns]"
      ]
     },
     "execution_count": 19,
     "metadata": {},
     "output_type": "execute_result"
    }
   ],
   "source": [
    "df = pd.read_csv('200701_base_historica.csv', delimiter='t', encoding='UTF-8')\n"
   ]
  },
  {
   "cell_type": "code",
   "execution_count": 20,
   "metadata": {},
   "outputs": [
    {
     "name": "stdout",
     "output_type": "stream",
     "text": [
      "(277, 7)\n"
     ]
    }
   ],
   "source": [
    "print(df.shape)"
   ]
  },
  {
   "cell_type": "code",
   "execution_count": 22,
   "metadata": {},
   "outputs": [],
   "source": [
    "combined_csv_data = pd.concat([pd.read_csv(f, delimiter='t') for f in all_filenames])"
   ]
  },
  {
   "cell_type": "code",
   "execution_count": null,
   "metadata": {},
   "outputs": [],
   "source": [
    "pd.read_csv(f, delimiter='t')"
   ]
  },
  {
   "cell_type": "code",
   "execution_count": 23,
   "metadata": {},
   "outputs": [
    {
     "ename": "TypeError",
     "evalue": "concat() missing 1 required positional argument: 'objs'",
     "output_type": "error",
     "traceback": [
      "\u001b[1;31m---------------------------------------------------------------------------\u001b[0m",
      "\u001b[1;31mTypeError\u001b[0m                                 Traceback (most recent call last)",
      "\u001b[1;32m<ipython-input-23-975d0a638e88>\u001b[0m in \u001b[0;36m<module>\u001b[1;34m\u001b[0m\n\u001b[1;32m----> 1\u001b[1;33m \u001b[0mpd\u001b[0m\u001b[1;33m.\u001b[0m\u001b[0mconcat\u001b[0m\u001b[1;33m(\u001b[0m\u001b[1;33m)\u001b[0m\u001b[1;33m\u001b[0m\u001b[1;33m\u001b[0m\u001b[0m\n\u001b[0m",
      "\u001b[1;31mTypeError\u001b[0m: concat() missing 1 required positional argument: 'objs'"
     ]
    }
   ],
   "source": [
    "pd.concat()"
   ]
  },
  {
   "cell_type": "code",
   "execution_count": 24,
   "metadata": {},
   "outputs": [],
   "source": [
    "os.chdir('..')\n"
   ]
  },
  {
   "cell_type": "code",
   "execution_count": 25,
   "metadata": {},
   "outputs": [
    {
     "data": {
      "text/plain": [
       "'C:\\\\Users\\\\pabli\\\\data-project\\\\COVID_CASES'"
      ]
     },
     "execution_count": 25,
     "metadata": {},
     "output_type": "execute_result"
    }
   ],
   "source": [
    "pwd"
   ]
  },
  {
   "cell_type": "code",
   "execution_count": 26,
   "metadata": {},
   "outputs": [],
   "source": [
    "combined_csv_data.to_csv('combined_csv_data.csv')"
   ]
  },
  {
   "cell_type": "code",
   "execution_count": null,
   "metadata": {},
   "outputs": [],
   "source": []
  },
  {
   "cell_type": "code",
   "execution_count": null,
   "metadata": {},
   "outputs": [],
   "source": []
  },
  {
   "cell_type": "code",
   "execution_count": null,
   "metadata": {},
   "outputs": [],
   "source": []
  }
 ],
 "metadata": {
  "anaconda-cloud": {},
  "kernelspec": {
   "display_name": "Python 3",
   "language": "python",
   "name": "python3"
  },
  "language_info": {
   "codemirror_mode": {
    "name": "ipython",
    "version": 3
   },
   "file_extension": ".py",
   "mimetype": "text/x-python",
   "name": "python",
   "nbconvert_exporter": "python",
   "pygments_lexer": "ipython3",
   "version": "3.8.5"
  }
 },
 "nbformat": 4,
 "nbformat_minor": 4
}
